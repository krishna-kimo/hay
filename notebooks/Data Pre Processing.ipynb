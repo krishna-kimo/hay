{
 "cells": [
  {
   "cell_type": "markdown",
   "metadata": {},
   "source": [
    "#### Data Process to convert single CSV file to multiple txt files.\n",
    "---\n",
    "    - [x] Read the CSV into Pandas\n",
    "    - [x] Read each row what is required and write a txt file.\n",
    "    \n",
    "---\n",
    "    - Read only first 500 values for quick prototyping"
   ]
  },
  {
   "cell_type": "code",
   "execution_count": 1,
   "metadata": {},
   "outputs": [],
   "source": [
    "import pandas as pd\n",
    "import numpy as np"
   ]
  },
  {
   "cell_type": "code",
   "execution_count": 4,
   "metadata": {},
   "outputs": [],
   "source": [
    "csv_file = '/home/krishna/Downloads/clean_total.csv'\n",
    "\n",
    "# 500 rows for testing purpose\n",
    "data_df = pd.read_csv(csv_file, nrows=500)\n",
    "DATA_DIR = '/home/krishna/projects/haystack/test_docs'\n",
    "\n",
    "# Full data\n",
    "#data_df = pd.read_csv(csv_file)\n",
    "#DATA_DIR = '/home/krishna/projects/haystack/docs/'"
   ]
  },
  {
   "cell_type": "code",
   "execution_count": 5,
   "metadata": {},
   "outputs": [
    {
     "data": {
      "text/plain": [
       "(500, 9)"
      ]
     },
     "execution_count": 5,
     "metadata": {},
     "output_type": "execute_result"
    }
   ],
   "source": [
    "data_df.shape"
   ]
  },
  {
   "cell_type": "code",
   "execution_count": 7,
   "metadata": {},
   "outputs": [],
   "source": [
    "import re\n",
    "\n",
    "\n",
    "def clean_wiki_text(text):\n",
    "    # get rid of multiple new lines\n",
    "    while \"\\n\\n\" in text:\n",
    "        text = text.replace(\"\\n\\n\", \"\\n\")\n",
    "\n",
    "    # remove extremely short lines\n",
    "    text = text.split(\"\\n\")\n",
    "    cleaned = []\n",
    "    for l in text:\n",
    "        if len(l) > 30:\n",
    "            cleaned.append(l)\n",
    "        elif l[:2] == \"==\" and l[-2:] == \"==\":\n",
    "            cleaned.append(l)\n",
    "    text = \"\\n\".join(cleaned)\n",
    "\n",
    "    # remove empty paragrahps\n",
    "    text = re.sub(r\"(==.*==\\n\\n\\n)\", \"\", text)\n",
    "\n",
    "    return text"
   ]
  },
  {
   "cell_type": "code",
   "execution_count": 8,
   "metadata": {},
   "outputs": [],
   "source": [
    "\n",
    "data_df[\"comb_text\"] = data_df[\"title\"].astype(str) + data_df[\"abstract\"].astype(str) + data_df['text'].astype(str) \\\n",
    "                        + data_df['authors'].astype(str) + data_df['affiliations'].astype(str) + data_df['bibliography'].astype(str)\n",
    "        "
   ]
  },
  {
   "cell_type": "code",
   "execution_count": 9,
   "metadata": {},
   "outputs": [
    {
     "data": {
      "text/plain": [
       "(500, 10)"
      ]
     },
     "execution_count": 9,
     "metadata": {},
     "output_type": "execute_result"
    }
   ],
   "source": [
    "data_df.shape"
   ]
  },
  {
   "cell_type": "code",
   "execution_count": 11,
   "metadata": {},
   "outputs": [],
   "source": [
    "data_df['comb_text'] = data_df['comb_text'].apply(clean_wiki_text)"
   ]
  },
  {
   "cell_type": "code",
   "execution_count": 13,
   "metadata": {},
   "outputs": [],
   "source": [
    "work_df = data_df[['paper_id', 'comb_text']]"
   ]
  },
  {
   "cell_type": "code",
   "execution_count": 16,
   "metadata": {},
   "outputs": [],
   "source": [
    "import os.path\n",
    "#base_path = '/home/krishna/projects/haystack/docs'\n",
    "for index, row in work_df.iterrows():\n",
    "    #print(row['paper_id'])\n",
    "    file_name = str(row['paper_id']) + '.txt'\n",
    "    file_path = os.path.join(DATA_DIR, file_name) \n",
    "    with open(file_path, \"w\") as f:\n",
    "        f.write(row['comb_text'])"
   ]
  },
  {
   "cell_type": "code",
   "execution_count": null,
   "metadata": {},
   "outputs": [],
   "source": [
    "#### Colorectal cancer is globally the third most incident malignancy"
   ]
  }
 ],
 "metadata": {
  "kernelspec": {
   "display_name": "ktrain",
   "language": "python",
   "name": "ktrain"
  },
  "language_info": {
   "codemirror_mode": {
    "name": "ipython",
    "version": 3
   },
   "file_extension": ".py",
   "mimetype": "text/x-python",
   "name": "python",
   "nbconvert_exporter": "python",
   "pygments_lexer": "ipython3",
   "version": "3.6.10"
  }
 },
 "nbformat": 4,
 "nbformat_minor": 4
}
