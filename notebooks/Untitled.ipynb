{
 "cells": [
  {
   "cell_type": "markdown",
   "metadata": {},
   "source": [
    "#### QandA implementation using haystack\n",
    "---\n"
   ]
  },
  {
   "cell_type": "code",
   "execution_count": 2,
   "metadata": {},
   "outputs": [],
   "source": [
    "from haystack import Finder\n",
    "from haystack.indexing.cleaning import clean_wiki_text\n",
    "from haystack.indexing.io import write_documents_to_db, fetch_archive_from_http\n",
    "from haystack.reader.farm import FARMReader\n",
    "from haystack.reader.transformers import TransformersReader\n",
    "from haystack.utils import print_answers"
   ]
  },
  {
   "cell_type": "code",
   "execution_count": 16,
   "metadata": {},
   "outputs": [],
   "source": [
    "# Connect to Elasticsearch\n",
    "\n",
    "#from haystack.database.elasticsearch import ElasticsearchDocumentStore\n",
    "#document_store = ElasticsearchDocumentStore(host=\"localhost\", username=\"\", password=\"\", index=\"document\")\n",
    "\n",
    "# In-Memory Document Store\n",
    "from haystack.database.memory import InMemoryDocumentStore\n",
    "document_store = InMemoryDocumentStore()"
   ]
  },
  {
   "cell_type": "code",
   "execution_count": 17,
   "metadata": {},
   "outputs": [
    {
     "name": "stderr",
     "output_type": "stream",
     "text": [
      "05/01/2020 18:16:22 - INFO - haystack.indexing.io -   Wrote 500 docs to DB\n"
     ]
    }
   ],
   "source": [
    "doc_dir = '/home/krishna/projects/haystack/docs/'\n",
    "\n",
    "# Now, let's write the docs to our DB.\n",
    "# You can optionally supply a cleaning function that is applied to each doc (e.g. to remove footers)\n",
    "# It must take a str as input, and return a str.\n",
    "write_documents_to_db(document_store=document_store, document_dir=doc_dir, \\\n",
    "                      only_empty_db=True, split_paragraphs=True)"
   ]
  },
  {
   "cell_type": "code",
   "execution_count": 18,
   "metadata": {},
   "outputs": [
    {
     "name": "stderr",
     "output_type": "stream",
     "text": [
      "05/01/2020 18:16:54 - INFO - haystack.retriever.tfidf -   Found 500 candidate paragraphs from 500 docs in DB\n"
     ]
    }
   ],
   "source": [
    "## Using BM25\n",
    "##from haystack.retriever.elasticsearch import ElasticsearchRetriever\n",
    "##retriever = ElasticsearchRetriever(document_store=document_store)\n",
    "\n",
    "# An in-memory TfidfRetriever based on Pandas dataframes\n",
    "\n",
    "from haystack.retriever.tfidf import TfidfRetriever\n",
    "retriever = TfidfRetriever(document_store=document_store)"
   ]
  },
  {
   "cell_type": "code",
   "execution_count": 26,
   "metadata": {},
   "outputs": [
    {
     "name": "stderr",
     "output_type": "stream",
     "text": [
      "05/01/2020 18:20:10 - INFO - farm.utils -   device: cpu n_gpu: 0, distributed training: False, automatic mixed precision training: None\n",
      "05/01/2020 18:20:10 - INFO - farm.infer -   Could not find `deepset/roberta-base-squad2` locally. Try to download from model hub ...\n",
      "05/01/2020 18:20:15 - WARNING - farm.modeling.language_model -   Could not automatically detect from language model name what language it is. \n",
      "\t We guess it's an *ENGLISH* model ... \n",
      "\t If not: Init the language model by supplying the 'language' param.\n",
      "05/01/2020 18:20:22 - WARNING - farm.modeling.prediction_head -   Some unused parameters are passed to the QuestionAnsweringHead. Might not be a problem. Params: {\"loss_ignore_index\": -1}\n",
      "05/01/2020 18:20:24 - INFO - filelock -   Lock 139774506852192 acquired on /home/krishna/.cache/torch/transformers/1e3af82648d7190d959a9d76d727ef629b1ca51b3da6ad04039122453cb56307.6a4061e8fc00057d21d80413635a86fdcf55b6e7594ad9e25257d2f99a02f4be.lock\n"
     ]
    },
    {
     "data": {
      "application/vnd.jupyter.widget-view+json": {
       "model_id": "cd5c0354efe1475882452ae9a897ccb5",
       "version_major": 2,
       "version_minor": 0
      },
      "text/plain": [
       "HBox(children=(FloatProgress(value=0.0, description='Downloading', max=898822.0, style=ProgressStyle(descripti…"
      ]
     },
     "metadata": {},
     "output_type": "display_data"
    },
    {
     "name": "stderr",
     "output_type": "stream",
     "text": [
      "05/01/2020 18:20:27 - INFO - filelock -   Lock 139774506852192 released on /home/krishna/.cache/torch/transformers/1e3af82648d7190d959a9d76d727ef629b1ca51b3da6ad04039122453cb56307.6a4061e8fc00057d21d80413635a86fdcf55b6e7594ad9e25257d2f99a02f4be.lock\n"
     ]
    },
    {
     "name": "stdout",
     "output_type": "stream",
     "text": [
      "\n"
     ]
    },
    {
     "name": "stderr",
     "output_type": "stream",
     "text": [
      "05/01/2020 18:20:28 - INFO - filelock -   Lock 139774506852192 acquired on /home/krishna/.cache/torch/transformers/b901c69e8e7da4a24c635ad81d016d274f174261f4f5c144e43f4b00e242c3b0.70bec105b4158ed9a1747fea67a43f5dee97855c64d62b6ec3742f4cfdb5feda.lock\n"
     ]
    },
    {
     "data": {
      "application/vnd.jupyter.widget-view+json": {
       "model_id": "58e418d3fe5745c0ad067aa5f3a94797",
       "version_major": 2,
       "version_minor": 0
      },
      "text/plain": [
       "HBox(children=(FloatProgress(value=0.0, description='Downloading', max=456318.0, style=ProgressStyle(descripti…"
      ]
     },
     "metadata": {},
     "output_type": "display_data"
    },
    {
     "name": "stderr",
     "output_type": "stream",
     "text": [
      "05/01/2020 18:20:31 - INFO - filelock -   Lock 139774506852192 released on /home/krishna/.cache/torch/transformers/b901c69e8e7da4a24c635ad81d016d274f174261f4f5c144e43f4b00e242c3b0.70bec105b4158ed9a1747fea67a43f5dee97855c64d62b6ec3742f4cfdb5feda.lock\n"
     ]
    },
    {
     "name": "stdout",
     "output_type": "stream",
     "text": [
      "\n"
     ]
    },
    {
     "name": "stderr",
     "output_type": "stream",
     "text": [
      "05/01/2020 18:20:33 - INFO - filelock -   Lock 139774506852192 acquired on /home/krishna/.cache/torch/transformers/2d9b03b59a8af464bf4238025a3cf0e5a340b9d0ba77400011e23c130b452510.16f949018cf247a2ea7465a74ca9a292212875e5fd72f969e0807011e7f192e4.lock\n"
     ]
    },
    {
     "data": {
      "application/vnd.jupyter.widget-view+json": {
       "model_id": "462953e1b52642b1b98f0f568d8eeb21",
       "version_major": 2,
       "version_minor": 0
      },
      "text/plain": [
       "HBox(children=(FloatProgress(value=0.0, description='Downloading', max=150.0, style=ProgressStyle(description_…"
      ]
     },
     "metadata": {},
     "output_type": "display_data"
    },
    {
     "name": "stderr",
     "output_type": "stream",
     "text": [
      "05/01/2020 18:20:34 - INFO - filelock -   Lock 139774506852192 released on /home/krishna/.cache/torch/transformers/2d9b03b59a8af464bf4238025a3cf0e5a340b9d0ba77400011e23c130b452510.16f949018cf247a2ea7465a74ca9a292212875e5fd72f969e0807011e7f192e4.lock\n"
     ]
    },
    {
     "name": "stdout",
     "output_type": "stream",
     "text": [
      "\n"
     ]
    },
    {
     "name": "stderr",
     "output_type": "stream",
     "text": [
      "05/01/2020 18:20:35 - INFO - filelock -   Lock 139774506938208 acquired on /home/krishna/.cache/torch/transformers/507984f2e28c7dfed5db9a20acd68beb969c7f2833abc9e582e967fa0291f3dc.faa301f950f21d5033722a5b7fa9914cd6f649bb9db3d18b2976d5c6d55aed3d.lock\n"
     ]
    },
    {
     "data": {
      "application/vnd.jupyter.widget-view+json": {
       "model_id": "61ca32a3ec7d43da8e182dabe9821f19",
       "version_major": 2,
       "version_minor": 0
      },
      "text/plain": [
       "HBox(children=(FloatProgress(value=0.0, description='Downloading', max=190.0, style=ProgressStyle(description_…"
      ]
     },
     "metadata": {},
     "output_type": "display_data"
    },
    {
     "name": "stderr",
     "output_type": "stream",
     "text": [
      "05/01/2020 18:20:36 - INFO - filelock -   Lock 139774506938208 released on /home/krishna/.cache/torch/transformers/507984f2e28c7dfed5db9a20acd68beb969c7f2833abc9e582e967fa0291f3dc.faa301f950f21d5033722a5b7fa9914cd6f649bb9db3d18b2976d5c6d55aed3d.lock\n",
      "05/01/2020 18:20:37 - INFO - farm.utils -   device: cpu n_gpu: 0, distributed training: False, automatic mixed precision training: None\n"
     ]
    },
    {
     "name": "stdout",
     "output_type": "stream",
     "text": [
      "\n"
     ]
    }
   ],
   "source": [
    "### Reader\n",
    "\n",
    "reader = FARMReader(model_name_or_path=\"deepset/roberta-base-squad2\", use_gpu=False)\n",
    "#reader = TransformersReader(model=\"deepset/roberta-base-squad2\",tokenizer=\"deepset/roberta-base-squad2-covid\", use_gpu=-1)"
   ]
  },
  {
   "cell_type": "code",
   "execution_count": 27,
   "metadata": {},
   "outputs": [],
   "source": [
    "finder = Finder(reader, retriever)"
   ]
  },
  {
   "cell_type": "code",
   "execution_count": 28,
   "metadata": {},
   "outputs": [
    {
     "name": "stderr",
     "output_type": "stream",
     "text": [
      "05/01/2020 18:20:45 - INFO - haystack.retriever.tfidf -   Identified 1 candidates via retriever:\n",
      "  paragraph_id                       document_id                                                                                                                                                                                                                                                                                                                                                                                                                                                                                                                                                                                                                                                                                                                                                                                                                                                                                                                                                                                                                                                                                                                                                                                                                                                                                                                                                                                                                                                                                                                                                                                                                                                                                                                                                                                                                                                                                                                                                                                                                                                                                                                                                                                                                                                                                                                                                                                                                                                                                                                                                                                                                                                                                                                                                                                                                                                                                                                                                                                                                                                                                                                                                                                                                                                                                                                                                                                                                                                                                                                                                                                                                                                                                                                                                                                                                                                                                                                                                                                                                                                                                                                                                                                                                                                                                                                                                                                                                                                                                                                                                                                                                                                                                                                                                                                                                                                                                                                                                                                                                                                                                                                                                                                                                                                                                                                                                                                                                                                                                                                                                                                                                                                                                                                                                                                                                                                                                                                                                                                                                                                                                                                                                                                                                                                                                                                                                                                                                                                                                                                                                                                                                                                                                                                                                                                                                                                                                                                                                                                                                                                                                                                                                                                                                                                                                                                                                                                                                                                                                                                                                                                                                                                                                                                                                                                                                                                                                                                                                                                                                                                                                                                                                                                                                                                                                                                                                                                                                                                                                                                                                                                                                                                                                                                                                                                                                                                                                                                                                                                                                                                                                                                                                                                                                                                                                                                                                                                                                                                                                                                                                                                                                                                                                                                                                                                                                                                                                                                                                                                                                                                                                                                                                                                                                                                                                                                                                                                                                                                                                                                                                                                                                                                                                  text\n",
      "          232  ae5b36528d53c0be66ca65a1a96df6b6  Current State and Predicting Future Scenario of Highly Infected Nations for COVID-19 PandemicAbstract\\nSince the first report of COVID-19 from Wuhan China, the virus has rapidly spread across the globe now presently reported in 177 countries with positive cases crossing 400 thousand and rising. In the current study, prediction is made for highly infected countries by a simple and novel method using only cumulative positive cases reported. The rate of infection per week ( ) coefficient delineated three phases for the current COVID-19 pandemic. All the countries under study have passed Phase 1 and are currently in Phase 2 except for South Korea which is in Phase 3. Early detection with rapid and large-scale testing helps in controlling the COVID-19 pandemic.Staying in Phase 2 for longer period would lead to increase in COVID-19 positive cases.\\nSince the first report of COVID-19 in Wuhan province in the month of December, the virus has spread across the globe through foreign travelers at rapid pace. The SARS-CoV2 is transmitted human to human among close contacts (within about 6 feet) [1] and has mean incubation period of 6.4 days with range of 2.1 to 11.1 days [2] . Asymptotic spread has made detection of virus very difficult. Reverse transcription PCR is widely used for detecting COVID-19 virus which may take few hours and days to obtain results. Observing threat to public health, World Health Organization (WHO) has declared novel coronavirus (2019-nCoV) outbreak to be \"public health emergency of international concern\" on Jan. 30, 2020 [3] and on the 11th of March the disease was declared a global pandemic [4] .Many prediction models are being proposed for the current pandemic [4] [5] namely SIRD model [7] , GLEaM [8] , Mechanistic-statistical SIR [8] , SEIRUS model [9] . These models are often complex and have multiple parameters. Here we propose a simple prediction method for the current COVID-19 pandemic based on only reported positive COID-19 cases. The current study is aimed to predict future scenario of eight highly infected countries namely Italy, Spain, Germany, France, United States, Iran, South Korea and India.. CC-BY-NC-ND 4.0 International license It is made available under a author/funder, who has granted medRxiv a license to display the preprint in perpetuity.is the (which was not peer-reviewed) The copyright holder for this preprint \\nThe association of with normal curve is presented in Table 1 . When the is above 100, is continuously increasing (Figure 1 ), the peak of normal curve has equal to 100where there is constant increase in and when is below 100, starts decreasing. . CC-BY-NC-ND 4.0 International license It is made available under a author/funder, who has granted medRxiv a license to display the preprint in perpetuity.is the (which was not peer-reviewed) The copyright holder for this preprint . https://doi.org/10.1101/2020.03.28.20046235 doi: medRxiv preprint Table 1 ).\\nFigure 2. Country-wise Rate of Infection per Week ( )\\nThe bold black line represents Critical Point.. CC-BY-NC-ND 4.0 International license It is made available under a author/funder, who has granted medRxiv a license to display the preprint in perpetuity.is the (which was not peer-reviewed) The copyright holder for this preprint . https://doi.org/10.1101/2020.03.28.20046235 doi: medRxiv preprint Phase 1 -This phase is defined by sudden spike of which is due to magnitude of positive cases reported. Initially a smaller number of people are tested due to longer incubation period of virus, (2.1 to 11.1 days with mean of 6.4 days) [2] which leads to low positive cases. This is followed by higher testing samples reporting high number of positive cases.Phase 2 -In this phase the is above 100 but is decreasing at a certain rate. There is currently popular opinion about flattening the epidemic curve to reduce the load on healthcare sector [13] [14] . The decay of decides the epidemic curve, a fast decay helps in flattening the curve whereas slow decay would lead to steep normal curve. . CC-BY-NC-ND 4.0 International license It is made available under a author/funder, who has granted medRxiv a license to display the preprint in perpetuity.is the (which was not peer-reviewed) The copyright holder for this preprint . https://doi.org/10.1101/2020.03.28.20046235 doi: medRxiv preprint\\nUS saw its first case on of COVID-19 on Jan 20, 2020. US observed its Phase 1 from Feb 29 to Mar 6 with of 4660. Now currently it is in Phase 2 with a slow decay of . This slow decay would take form of steep normal curve leading to huge increase in and is expected to reach 400,000 positive cases within Apr 3. Immediate actions need to be undertaken to control the disease in United States. WHO said US could be next epicenter for COVID-19 [15] . . CC-BY-NC-ND 4.0 International license It is made available under a author/funder, who has granted medRxiv a license to display the preprint in perpetuity.is the (which was not peer-reviewed) The copyright holder for this preprint . https://doi.org/10.1101/2020.03.28.20046235 doi: medRxiv preprint\\nGermany had its first case on January 27 and passed Phase 1 from Feb 29-Mar 6 with lowest (793.10) compared to other countries under study. It is currently in Phase 2 with a gradual decrease in . Germany is predicted to be at the peak of normal curve with highest for next week (Mar 28-Apr 3) and to be in Safe Phase by 10 April. \\nFrance reported its first case on January 24 and passed Phase 1 from Feb 29 to Mar 6. Now it is in Phase 2 and is predicted to have above 100 for next week. . CC-BY-NC-ND 4.0 International license It is made available under a author/funder, who has granted medRxiv a license to display the preprint in perpetuity.is the (which was not peer-reviewed) The copyright holder for this preprint . https://doi.org/10.1101/2020.03.28.20046235 doi: medRxiv preprint\\nIran reported first positive case on February 19. It has passed Phase 1 during Feb 22-Feb 28 and is currently in Phase 2. It is predicted to have above 100 for the next week. \\nSouth Korea passed Phase 1 on Feb 22-Feb 28 with of 7617.86 highest compared to other countries. This high value can be attributed to large scale testing conducted. It is the only country to pass Phase 2 (Feb 29-Mar 6) and now is in Phase 3 for three weeks with both continuously decreasing. . CC-BY-NC-ND 4.0 International license It is made available under a author/funder, who has granted medRxiv a license to display the preprint in perpetuity.is the (which was not peer-reviewed) The copyright holder for this preprint . https://doi.org/10.1101/2020.03.28.20046235 doi: medRxiv preprint\\nIndia reported its first case on January 30. It has passed Phase 1, which was from Feb 29-Mar 6. Now it's in Phase 2, with a fluctuating value. It is predicted to be in Phase 2 for next two weeks. Positive cases reported have history of foreign travel or have come in contact with infected person. Community spread has not yet been reported from India. Coming weeks are crucial for containing COVID-19 pandemic. It is predicted to cross cumulative cases of 3,000within Apr 3. author/funder, who has granted medRxiv a license to display the preprint in perpetuity.is the (which was not peer-reviewed) The copyright holder for this preprint . https://doi.org/10.1101/2020.03.28.20046235 doi: medRxiv preprint Phase 2 to Phase 3. Rapid, low-cost and large-scale testing methods for COVID-19 have been summarized by [17, 19] \\nThe current method helps to understand the current state of Epidemic and can give fair prediction of Epidemic for upcoming weeks. Rapid and large-scale testing helps in controlling the COVID-19 outbreak. Initial screening and quarantining people with history of foreign travel helps in further to prevent spread of virus into community. As no vaccine has been developed up till now and control measures are the best option. Quick transition from Phase 2 to Phase 3 is crucial in controlling the COVID-19 pandemic.\\n. CC-BY-NC-ND 4.0 International license It is made available under a author/funder, who has granted medRxiv a license to display the preprint in perpetuity.is the (which was not peer-reviewed) The copyright holder for this preprint The bold value indicates Phase 1 for respective Country.. CC-BY-NC-ND 4.0 International license It is made available under a author/funder, who has granted medRxiv a license to display the preprint in perpetuity.is the (which was not peer-reviewed) The copyright holder for this preprint . https://doi.org/10.1101/2020.03.28.20046235 doi: medRxiv preprint\\nNandan L PatilNandan L Patil (University of Agricultural Sciences, Dharwad-580 005)Incubation period of 2019 novel coronavirus (2019-nCoV) infections among travellers from Wuhan, China, A Backer Jantien, Klinkenberg Don, Wallinga Jacco, EuroSurveill, 2020; WHO Director General Statement, , , 2020; Simple Projection Model for COVID-19 Pandemic. medRxiv preprint, J Lu, , 2020; Model for COVID-19 prediction in Iran based on China parameters, B Zareie, A Roshani, M A Mansournia, M A Rasouli, G Moradi, , 2020; Chinese and Italian COVID-19 outbreaks can be correctly described by a modified SIRD model. medRxiv preprint, D Caccavo, , 2020; From a single host to global spread. The global mobility-based modelling of the COVID-19 pandemic implies higher infection and lower detection rates than current estimates. medRxiv preprint, M Siwiak, P Szczesny, M Siwiak, , 2020; Mechanistic-statistical SIR modelling for early estimation of the actual number of cases and mortality rate from COVID-19. medRxiv preprint, L Roques, E Klein, J Papa, S Soubeyrand, , 2020; Mathematical predictions for covid-19 as a global pandemic. medRxiv preprint, V A Okhuese, , 2020; The three phases of COVID-19 and how can we make it manageable, , , None; Flattening the Coronavirus curve, , , None; COVID-19), , Report of the WHO-China Joint Mission on Coronavirus Disease, 2019; Pattern of early human-to-human transmission of Wuhan 2019-nCOV. bioRxiv preprint, J Riou, C L Althaus, , 2020; Promising methods for detection of novel coronavirus SARS-CoV-2, R Liu, A Fu1, Z Deng, Y Li, T Liu, VIEW, 2020; Fast, portable tests come online to curb coronavirus pandemic, , Nature Biotechnology News, 2020\n"
     ]
    },
    {
     "name": "stderr",
     "output_type": "stream",
     "text": [
      "05/01/2020 18:20:45 - INFO - haystack.finder -   Reader is looking for detailed answer in 10246 chars ...\n"
     ]
    },
    {
     "name": "stdout",
     "output_type": "stream",
     "text": [
      "OrderedDict([(232, array([0.18665962])), (233, array([0.17970997])), (487, array([0.17916202])), (456, array([0.17714134])), (12, array([0.17428591])), (136, array([0.1703749])), (362, array([0.1698908])), (207, array([0.16347776])), (0, array([0.16253012])), (225, array([0.16066024])), (308, array([0.15755865])), (84, array([0.15376142])), (416, array([0.15289455])), (141, array([0.15004801])), (124, array([0.1478327])), (98, array([0.14662645])), (412, array([0.14573767])), (423, array([0.14473539])), (274, array([0.14458955])), (131, array([0.13704985])), (438, array([0.13575856])), (59, array([0.13542492])), (295, array([0.13504204])), (65, array([0.13442388])), (323, array([0.13375939])), (277, array([0.1330447])), (271, array([0.13023316])), (180, array([0.12896607])), (215, array([0.1289261])), (305, array([0.12851698])), (255, array([0.12843555])), (475, array([0.12680846])), (121, array([0.12453702])), (250, array([0.12390663])), (46, array([0.12365355])), (434, array([0.12310851])), (251, array([0.12279604])), (151, array([0.12269512])), (149, array([0.12263923])), (450, array([0.12205035])), (120, array([0.12183328])), (414, array([0.12178278])), (490, array([0.12074723])), (182, array([0.12043385])), (441, array([0.12027027])), (380, array([0.11936531])), (11, array([0.1191287])), (49, array([0.11900578])), (276, array([0.11864284])), (332, array([0.11786474])), (133, array([0.11727474])), (66, array([0.11647431])), (235, array([0.11527364])), (280, array([0.11463912])), (351, array([0.11436693])), (347, array([0.11359428])), (369, array([0.11225667])), (28, array([0.11152443])), (336, array([0.11139112])), (175, array([0.11122064])), (89, array([0.11117357])), (470, array([0.11057684])), (70, array([0.11014675])), (211, array([0.11013379])), (204, array([0.11008843])), (42, array([0.1099666])), (111, array([0.10955454])), (199, array([0.10919867])), (492, array([0.10895893])), (113, array([0.10803175])), (349, array([0.10702475])), (354, array([0.10700524])), (358, array([0.10669313])), (196, array([0.10647915])), (205, array([0.10620191])), (445, array([0.10602416])), (399, array([0.10559606])), (240, array([0.10549711])), (68, array([0.10465204])), (401, array([0.10377083])), (337, array([0.10348069])), (94, array([0.10347112])), (482, array([0.1031497])), (422, array([0.10311317])), (419, array([0.10304002])), (477, array([0.10277832])), (81, array([0.10266271])), (50, array([0.10261107])), (463, array([0.1024755])), (340, array([0.10246763])), (316, array([0.10224722])), (210, array([0.1020891])), (357, array([0.10198734])), (298, array([0.10193373])), (290, array([0.10184304])), (432, array([0.10134258])), (192, array([0.10129153])), (234, array([0.10127882])), (309, array([0.10086189])), (159, array([0.10065991])), (223, array([0.09986999])), (6, array([0.09950114])), (493, array([0.09918401])), (342, array([0.09911869])), (368, array([0.09883822])), (311, array([0.09874944])), (393, array([0.09814656])), (155, array([0.09763365])), (154, array([0.09674207])), (443, array([0.09657594])), (364, array([0.09656383])), (371, array([0.09620045])), (306, array([0.09590412])), (384, array([0.09588291])), (381, array([0.09571471])), (258, array([0.09555069])), (278, array([0.09457191])), (188, array([0.09452326])), (326, array([0.09421077])), (51, array([0.0937647])), (17, array([0.09357037])), (452, array([0.09348527])), (356, array([0.09324449])), (480, array([0.09286021])), (206, array([0.09282811])), (200, array([0.09235819])), (442, array([0.09221299])), (152, array([0.09169779])), (162, array([0.09130815])), (193, array([0.09070722])), (170, array([0.09011131])), (266, array([0.08997609])), (97, array([0.08997115])), (195, array([0.08985051])), (270, array([0.08981485])), (335, array([0.08944422])), (373, array([0.08936707])), (153, array([0.08924472])), (145, array([0.08915925])), (451, array([0.08911217])), (330, array([0.08883173])), (209, array([0.08861941])), (72, array([0.08837064])), (348, array([0.08794368])), (343, array([0.08777193])), (468, array([0.08698831])), (245, array([0.08698783])), (91, array([0.08685142])), (479, array([0.08629348])), (481, array([0.08554115])), (361, array([0.08501147])), (254, array([0.08499636])), (372, array([0.08481085])), (244, array([0.08435044])), (321, array([0.08425422])), (327, array([0.08397862])), (288, array([0.08390738])), (367, array([0.08369001])), (375, array([0.08344566])), (296, array([0.0829616])), (67, array([0.08224991])), (287, array([0.0819641])), (179, array([0.08195244])), (26, array([0.08191287])), (437, array([0.08173082])), (20, array([0.08167164])), (402, array([0.0813306])), (112, array([0.08131341])), (56, array([0.08102772])), (61, array([0.08071106])), (217, array([0.07948009])), (285, array([0.07943649])), (148, array([0.0793644])), (426, array([0.07910245])), (275, array([0.07889772])), (189, array([0.07859423])), (34, array([0.07856691])), (483, array([0.07782006])), (263, array([0.07711309])), (160, array([0.07707761])), (55, array([0.07678251])), (171, array([0.07652633])), (73, array([0.07644943])), (30, array([0.0751618])), (370, array([0.0747048])), (140, array([0.07450697])), (363, array([0.07415276])), (118, array([0.07403709])), (339, array([0.07377302])), (95, array([0.07365056])), (212, array([0.07338392])), (394, array([0.07313337])), (52, array([0.07227073])), (203, array([0.07219182])), (366, array([0.07183232])), (344, array([0.07169713])), (21, array([0.07160782])), (286, array([0.07124018])), (88, array([0.07025199])), (100, array([0.07005324])), (181, array([0.06955486])), (178, array([0.0693694])), (259, array([0.06929319])), (31, array([0.0690955])), (76, array([0.06875846])), (142, array([0.06850219])), (191, array([0.06820195])), (147, array([0.06800746])), (282, array([0.06800409])), (239, array([0.06783128])), (99, array([0.06712467])), (488, array([0.0662691])), (379, array([0.06599487])), (15, array([0.06593021])), (256, array([0.06564735])), (186, array([0.06553807])), (428, array([0.06551013])), (436, array([0.0654903])), (409, array([0.06538894])), (314, array([0.06527811])), (143, array([0.06526096])), (350, array([0.06502907])), (164, array([0.06497968])), (9, array([0.06490457])), (104, array([0.06451662])), (253, array([0.06441754])), (304, array([0.06401504])), (201, array([0.06333219])), (134, array([0.06319509])), (173, array([0.06247351])), (447, array([0.06235575])), (198, array([0.06232811])), (35, array([0.06182256])), (125, array([0.06160205])), (383, array([0.06136773])), (420, array([0.06089678])), (474, array([0.0602882])), (325, array([0.06028283])), (221, array([0.06015412])), (190, array([0.05987524])), (466, array([0.05979777])), (103, array([0.05965594])), (22, array([0.05961199])), (48, array([0.05942201])), (435, array([0.05937231])), (496, array([0.05918168])), (460, array([0.05891679])), (293, array([0.05882483])), (224, array([0.05843424])), (167, array([0.05805674])), (58, array([0.05802689])), (238, array([0.05770517])), (433, array([0.05754694])), (32, array([0.05719966])), (317, array([0.0570992])), (378, array([0.05680034])), (439, array([0.05675838])), (116, array([0.05656569])), (150, array([0.0565645])), (497, array([0.05635337])), (3, array([0.05606195])), (135, array([0.05596825])), (495, array([0.05595927])), (403, array([0.05592246])), (82, array([0.05592015])), (473, array([0.05583724])), (374, array([0.05567712])), (365, array([0.05558892])), (329, array([0.05548979])), (219, array([0.0547764])), (318, array([0.054729])), (214, array([0.05452928])), (158, array([0.05421227])), (319, array([0.05399198])), (38, array([0.05398234])), (388, array([0.05347387])), (36, array([0.05293619])), (86, array([0.05283204])), (324, array([0.05268324])), (289, array([0.05251424])), (430, array([0.05192342])), (43, array([0.05130254])), (408, array([0.05101352])), (176, array([0.05085434])), (105, array([0.05014688])), (389, array([0.04996176])), (226, array([0.0496325])), (139, array([0.04912234])), (24, array([0.04830544])), (197, array([0.0481727])), (146, array([0.04812739])), (29, array([0.04801596])), (87, array([0.04693703])), (39, array([0.04670383])), (208, array([0.04663684])), (427, array([0.04648678])), (246, array([0.04638732])), (458, array([0.04594113])), (128, array([0.04592165])), (471, array([0.0459118])), (396, array([0.04588758])), (130, array([0.04548878])), (284, array([0.04497304])), (33, array([0.04477533])), (185, array([0.04473129])), (241, array([0.04451483])), (115, array([0.0444495])), (346, array([0.04434021])), (138, array([0.04415483])), (491, array([0.04405726])), (228, array([0.04374326])), (462, array([0.04364201])), (194, array([0.043368])), (236, array([0.04327458])), (267, array([0.0428145])), (333, array([0.04223658])), (294, array([0.04215029])), (122, array([0.04190241])), (54, array([0.04175511])), (53, array([0.04160835])), (307, array([0.04147416])), (353, array([0.04137201])), (44, array([0.04092688])), (92, array([0.04090111])), (19, array([0.0408537])), (478, array([0.04074686])), (464, array([0.04032658])), (41, array([0.04015755])), (108, array([0.03981723])), (407, array([0.03966576])), (469, array([0.03931567])), (268, array([0.03916348])), (484, array([0.03915618])), (352, array([0.03906357])), (301, array([0.03900982])), (315, array([0.03884793])), (338, array([0.03872395])), (106, array([0.03855027])), (218, array([0.03835616])), (499, array([0.03802578])), (440, array([0.03774218])), (376, array([0.03760664])), (64, array([0.03756799])), (183, array([0.03728055])), (472, array([0.0368179])), (489, array([0.03681722])), (75, array([0.03675739])), (13, array([0.03675367])), (312, array([0.03620813])), (78, array([0.03543333])), (400, array([0.03534021])), (110, array([0.03491712])), (262, array([0.03473913])), (137, array([0.03460825])), (355, array([0.03449494])), (109, array([0.03431638])), (486, array([0.03420658])), (377, array([0.03420046])), (227, array([0.03393533])), (14, array([0.03385149])), (415, array([0.03378659])), (18, array([0.03331828])), (459, array([0.03320049])), (465, array([0.03319629])), (429, array([0.03317744])), (494, array([0.03317484])), (229, array([0.03305293])), (359, array([0.03293871])), (23, array([0.0328116])), (165, array([0.03275583])), (424, array([0.03275043])), (242, array([0.03260889])), (320, array([0.03250491])), (93, array([0.03223685])), (1, array([0.03218452])), (69, array([0.03215628])), (132, array([0.03215227])), (485, array([0.03192107])), (461, array([0.03183252])), (261, array([0.03180419])), (8, array([0.03173259])), (334, array([0.03170469])), (360, array([0.03168397])), (107, array([0.03159321])), (421, array([0.0311773])), (283, array([0.03106049])), (299, array([0.0309472])), (498, array([0.03082527])), (90, array([0.03047125])), (16, array([0.03046553])), (5, array([0.03039179])), (382, array([0.03016057])), (222, array([0.0295546])), (249, array([0.02920672])), (25, array([0.02900097])), (444, array([0.0288838])), (213, array([0.02818459])), (4, array([0.02817839])), (156, array([0.02808036])), (166, array([0.02806917])), (292, array([0.02802119])), (80, array([0.02748107])), (172, array([0.02737551])), (310, array([0.02703457])), (467, array([0.02701872])), (454, array([0.0270056])), (102, array([0.0267074])), (411, array([0.02659889])), (341, array([0.02643798])), (248, array([0.02638533])), (395, array([0.02621277])), (71, array([0.02618898])), (272, array([0.0259021])), (300, array([0.02572941])), (273, array([0.02560121])), (184, array([0.02557174])), (114, array([0.02548244])), (281, array([0.02542095])), (63, array([0.02535997])), (168, array([0.02500184])), (404, array([0.02479744])), (10, array([0.02465665])), (174, array([0.02460998])), (60, array([0.02453349])), (79, array([0.02449725])), (418, array([0.02449703])), (303, array([0.02415357])), (7, array([0.02405633])), (398, array([0.02396728])), (297, array([0.02358091])), (247, array([0.02349923])), (74, array([0.02293887])), (117, array([0.02282656])), (279, array([0.02270869])), (410, array([0.02266968])), (231, array([0.02254723])), (230, array([0.02252247])), (476, array([0.02247467])), (2, array([0.02233781])), (264, array([0.02152949])), (387, array([0.02149594])), (40, array([0.02066768])), (385, array([0.0204001])), (202, array([0.02021745])), (331, array([0.0200524])), (27, array([0.01981801])), (265, array([0.01973946])), (302, array([0.01956178])), (157, array([0.01934356])), (129, array([0.01924476])), (252, array([0.01881837])), (169, array([0.01866068])), (291, array([0.01840241])), (397, array([0.01826951])), (57, array([0.0181361])), (123, array([0.01797442])), (126, array([0.01780271])), (431, array([0.01737707])), (406, array([0.01719009])), (453, array([0.01717968])), (163, array([0.01701302])), (45, array([0.01669959])), (425, array([0.01664365])), (257, array([0.01640858])), (62, array([0.01614676])), (390, array([0.01603657])), (96, array([0.01601064])), (392, array([0.01575917])), (77, array([0.01571807])), (448, array([0.01561993])), (269, array([0.01558401])), (127, array([0.01523803])), (37, array([0.01484224])), (322, array([0.01463443])), (144, array([0.0144876])), (85, array([0.01442169])), (405, array([0.01439052])), (187, array([0.01417043])), (237, array([0.01410173])), (119, array([0.01408069])), (260, array([0.01407848])), (313, array([0.0139554])), (328, array([0.01379247])), (216, array([0.01369225])), (161, array([0.01362807])), (417, array([0.01317948])), (446, array([0.01293035])), (220, array([0.01264572])), (455, array([0.01260125])), (457, array([0.01227487])), (101, array([0.01197738])), (449, array([0.01197327])), (243, array([0.0116277])), (413, array([0.01128515])), (386, array([0.01090425])), (83, array([0.0103996])), (391, array([0.01029444])), (177, array([0.00995048])), (47, array([0.00947599])), (345, array([0.0092328]))])\n"
     ]
    }
   ],
   "source": [
    "prediction = finder.get_answers(question=\"what is Covid-19?\", top_k_retriever=1, top_k_reader=5)"
   ]
  },
  {
   "cell_type": "code",
   "execution_count": 31,
   "metadata": {},
   "outputs": [
    {
     "name": "stdout",
     "output_type": "stream",
     "text": [
      "[   {   'answer': 'a global pandemic',\n",
      "        'context': 'pa, S Soubeyrand, , 2020; Mathematical predictions for '\n",
      "                   'covid-19 as a global pandemic. medRxiv preprint, V A '\n",
      "                   'Okhuese, , 2020; The three phases of COVID'},\n",
      "    {   'answer': 'CC-BY-NC-ND 4.0 International license',\n",
      "        'context': 'e 2 and is predicted to have above 100 for next week. . '\n",
      "                   'CC-BY-NC-ND 4.0 International license It is made available '\n",
      "                   'under a author/funder, who has gran'},\n",
      "    {   'answer': 'pandemic',\n",
      "        'context': ' reported from India. Coming weeks are crucial for '\n",
      "                   'containing COVID-19 pandemic. It is predicted to cross '\n",
      "                   'cumulative cases of 3,000within Apr 3. autho'}]\n"
     ]
    }
   ],
   "source": [
    "print_answers(prediction, details=\"medium\")"
   ]
  },
  {
   "cell_type": "code",
   "execution_count": null,
   "metadata": {},
   "outputs": [],
   "source": []
  }
 ],
 "metadata": {
  "kernelspec": {
   "display_name": "ktrain",
   "language": "python",
   "name": "ktrain"
  },
  "language_info": {
   "codemirror_mode": {
    "name": "ipython",
    "version": 3
   },
   "file_extension": ".py",
   "mimetype": "text/x-python",
   "name": "python",
   "nbconvert_exporter": "python",
   "pygments_lexer": "ipython3",
   "version": "3.6.10"
  }
 },
 "nbformat": 4,
 "nbformat_minor": 4
}
