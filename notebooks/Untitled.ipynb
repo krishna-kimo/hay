{
 "cells": [
  {
   "cell_type": "markdown",
   "metadata": {},
   "source": [
    "#### QandA implementation using haystack\n",
    "---\n"
   ]
  },
  {
   "cell_type": "code",
   "execution_count": 1,
   "metadata": {},
   "outputs": [],
   "source": [
    "from haystack import Finder\n",
    "from haystack.indexing.cleaning import clean_wiki_text\n",
    "from haystack.indexing.io import write_documents_to_db, fetch_archive_from_http\n",
    "from haystack.reader.farm import FARMReader\n",
    "from haystack.reader.transformers import TransformersReader\n",
    "from haystack.utils import print_answers"
   ]
  },
  {
   "cell_type": "code",
   "execution_count": 12,
   "metadata": {},
   "outputs": [
    {
     "name": "stderr",
     "output_type": "stream",
     "text": [
      "05/03/2020 13:52:02 - INFO - elasticsearch -   PUT http://localhost:9200/document [status:400 request:0.028s]\n"
     ]
    }
   ],
   "source": [
    "# Connect to Elasticsearch\n",
    "\n",
    "from haystack.database.elasticsearch import ElasticsearchDocumentStore\n",
    "document_store = ElasticsearchDocumentStore(host=\"localhost\", username=\"\", password=\"\", index=\"document\")\n",
    "\n",
    "# In-Memory Document Store\n",
    "#from haystack.database.memory import InMemoryDocumentStore\n",
    "#document_store = InMemoryDocumentStore()\n",
    "\n",
    "# SQLite Document Store\n",
    "#from haystack.database.sql import SQLDocumentStore\n",
    "##db_ = \"sqlite:///\" + \"/home/krishna/qa.db\"\n",
    "#document_store = SQLDocumentStore(url=db_)"
   ]
  },
  {
   "cell_type": "code",
   "execution_count": 4,
   "metadata": {},
   "outputs": [
    {
     "name": "stderr",
     "output_type": "stream",
     "text": [
      "05/03/2020 13:35:42 - INFO - elasticsearch -   POST http://localhost:9200/_count [status:200 request:0.083s]\n",
      "05/03/2020 13:41:40 - INFO - elasticsearch -   POST http://localhost:9200/_bulk [status:200 request:1.657s]\n",
      "05/03/2020 13:41:42 - INFO - elasticsearch -   POST http://localhost:9200/_bulk [status:200 request:1.500s]\n",
      "05/03/2020 13:41:44 - INFO - elasticsearch -   POST http://localhost:9200/_bulk [status:200 request:1.313s]\n",
      "05/03/2020 13:41:45 - INFO - elasticsearch -   POST http://localhost:9200/_bulk [status:200 request:1.465s]\n",
      "05/03/2020 13:41:47 - INFO - elasticsearch -   POST http://localhost:9200/_bulk [status:200 request:1.342s]\n",
      "05/03/2020 13:41:48 - INFO - elasticsearch -   POST http://localhost:9200/_bulk [status:200 request:1.328s]\n",
      "05/03/2020 13:41:50 - INFO - elasticsearch -   POST http://localhost:9200/_bulk [status:200 request:1.463s]\n",
      "05/03/2020 13:41:51 - INFO - elasticsearch -   POST http://localhost:9200/_bulk [status:200 request:1.326s]\n",
      "05/03/2020 13:41:53 - INFO - elasticsearch -   POST http://localhost:9200/_bulk [status:200 request:1.307s]\n",
      "05/03/2020 13:41:57 - INFO - elasticsearch -   POST http://localhost:9200/_bulk [status:200 request:4.080s]\n",
      "05/03/2020 13:41:59 - INFO - elasticsearch -   POST http://localhost:9200/_bulk [status:200 request:1.184s]\n",
      "05/03/2020 13:42:00 - INFO - elasticsearch -   POST http://localhost:9200/_bulk [status:200 request:1.337s]\n",
      "05/03/2020 13:42:01 - INFO - elasticsearch -   POST http://localhost:9200/_bulk [status:200 request:1.157s]\n",
      "05/03/2020 13:42:03 - INFO - elasticsearch -   POST http://localhost:9200/_bulk [status:200 request:1.281s]\n",
      "05/03/2020 13:42:04 - INFO - elasticsearch -   POST http://localhost:9200/_bulk [status:200 request:1.306s]\n",
      "05/03/2020 13:42:06 - INFO - elasticsearch -   POST http://localhost:9200/_bulk [status:200 request:1.468s]\n",
      "05/03/2020 13:42:08 - INFO - elasticsearch -   POST http://localhost:9200/_bulk [status:200 request:1.373s]\n",
      "05/03/2020 13:42:09 - INFO - elasticsearch -   POST http://localhost:9200/_bulk [status:200 request:1.183s]\n",
      "05/03/2020 13:42:10 - INFO - elasticsearch -   POST http://localhost:9200/_bulk [status:200 request:1.217s]\n",
      "05/03/2020 13:42:15 - INFO - elasticsearch -   POST http://localhost:9200/_bulk [status:200 request:3.974s]\n",
      "05/03/2020 13:42:16 - INFO - elasticsearch -   POST http://localhost:9200/_bulk [status:200 request:1.264s]\n",
      "05/03/2020 13:42:18 - INFO - elasticsearch -   POST http://localhost:9200/_bulk [status:200 request:1.342s]\n",
      "05/03/2020 13:42:19 - INFO - elasticsearch -   POST http://localhost:9200/_bulk [status:200 request:1.254s]\n",
      "05/03/2020 13:42:21 - INFO - elasticsearch -   POST http://localhost:9200/_bulk [status:200 request:1.397s]\n",
      "05/03/2020 13:42:22 - INFO - elasticsearch -   POST http://localhost:9200/_bulk [status:200 request:1.303s]\n",
      "05/03/2020 13:42:23 - INFO - elasticsearch -   POST http://localhost:9200/_bulk [status:200 request:1.178s]\n",
      "05/03/2020 13:42:25 - INFO - elasticsearch -   POST http://localhost:9200/_bulk [status:200 request:1.389s]\n",
      "05/03/2020 13:42:26 - INFO - elasticsearch -   POST http://localhost:9200/_bulk [status:200 request:1.167s]\n",
      "05/03/2020 13:42:28 - INFO - elasticsearch -   POST http://localhost:9200/_bulk [status:200 request:1.794s]\n",
      "05/03/2020 13:42:31 - INFO - elasticsearch -   POST http://localhost:9200/_bulk [status:200 request:2.308s]\n",
      "05/03/2020 13:42:33 - INFO - elasticsearch -   POST http://localhost:9200/_bulk [status:200 request:1.500s]\n",
      "05/03/2020 13:42:34 - INFO - elasticsearch -   POST http://localhost:9200/_bulk [status:200 request:1.180s]\n",
      "05/03/2020 13:42:36 - INFO - elasticsearch -   POST http://localhost:9200/_bulk [status:200 request:1.431s]\n",
      "05/03/2020 13:42:37 - INFO - elasticsearch -   POST http://localhost:9200/_bulk [status:200 request:1.399s]\n",
      "05/03/2020 13:42:39 - INFO - elasticsearch -   POST http://localhost:9200/_bulk [status:200 request:1.459s]\n",
      "05/03/2020 13:42:40 - INFO - elasticsearch -   POST http://localhost:9200/_bulk [status:200 request:1.328s]\n",
      "05/03/2020 13:42:42 - INFO - elasticsearch -   POST http://localhost:9200/_bulk [status:200 request:1.279s]\n",
      "05/03/2020 13:42:43 - INFO - elasticsearch -   POST http://localhost:9200/_bulk [status:200 request:1.298s]\n",
      "05/03/2020 13:42:45 - INFO - elasticsearch -   POST http://localhost:9200/_bulk [status:200 request:1.578s]\n",
      "05/03/2020 13:42:49 - INFO - elasticsearch -   POST http://localhost:9200/_bulk [status:200 request:3.459s]\n",
      "05/03/2020 13:42:50 - INFO - elasticsearch -   POST http://localhost:9200/_bulk [status:200 request:1.167s]\n",
      "05/03/2020 13:42:52 - INFO - elasticsearch -   POST http://localhost:9200/_bulk [status:200 request:1.473s]\n",
      "05/03/2020 13:42:53 - INFO - elasticsearch -   POST http://localhost:9200/_bulk [status:200 request:1.308s]\n",
      "05/03/2020 13:42:55 - INFO - elasticsearch -   POST http://localhost:9200/_bulk [status:200 request:1.254s]\n",
      "05/03/2020 13:42:56 - INFO - elasticsearch -   POST http://localhost:9200/_bulk [status:200 request:1.229s]\n",
      "05/03/2020 13:42:58 - INFO - elasticsearch -   POST http://localhost:9200/_bulk [status:200 request:1.263s]\n",
      "05/03/2020 13:42:59 - INFO - elasticsearch -   POST http://localhost:9200/_bulk [status:200 request:1.298s]\n",
      "05/03/2020 13:43:01 - INFO - elasticsearch -   POST http://localhost:9200/_bulk [status:200 request:1.373s]\n",
      "05/03/2020 13:43:02 - INFO - elasticsearch -   POST http://localhost:9200/_bulk [status:200 request:1.283s]\n",
      "05/03/2020 13:43:06 - INFO - elasticsearch -   POST http://localhost:9200/_bulk [status:200 request:3.340s]\n",
      "05/03/2020 13:43:08 - INFO - elasticsearch -   POST http://localhost:9200/_bulk [status:200 request:1.661s]\n",
      "05/03/2020 13:43:09 - INFO - elasticsearch -   POST http://localhost:9200/_bulk [status:200 request:1.224s]\n",
      "05/03/2020 13:43:10 - INFO - elasticsearch -   POST http://localhost:9200/_bulk [status:200 request:1.181s]\n",
      "05/03/2020 13:43:12 - INFO - elasticsearch -   POST http://localhost:9200/_bulk [status:200 request:1.576s]\n",
      "05/03/2020 13:43:14 - INFO - elasticsearch -   POST http://localhost:9200/_bulk [status:200 request:1.324s]\n",
      "05/03/2020 13:43:15 - INFO - elasticsearch -   POST http://localhost:9200/_bulk [status:200 request:1.363s]\n",
      "05/03/2020 13:43:17 - INFO - elasticsearch -   POST http://localhost:9200/_bulk [status:200 request:1.647s]\n",
      "05/03/2020 13:43:19 - INFO - elasticsearch -   POST http://localhost:9200/_bulk [status:200 request:1.568s]\n",
      "05/03/2020 13:43:20 - INFO - elasticsearch -   POST http://localhost:9200/_bulk [status:200 request:1.112s]\n",
      "05/03/2020 13:43:21 - INFO - elasticsearch -   POST http://localhost:9200/_bulk [status:200 request:1.166s]\n",
      "05/03/2020 13:43:23 - INFO - elasticsearch -   POST http://localhost:9200/_bulk [status:200 request:1.338s]\n",
      "05/03/2020 13:43:25 - INFO - elasticsearch -   POST http://localhost:9200/_bulk [status:200 request:1.505s]\n",
      "05/03/2020 13:43:26 - INFO - elasticsearch -   POST http://localhost:9200/_bulk [status:200 request:1.297s]\n",
      "05/03/2020 13:43:28 - INFO - elasticsearch -   POST http://localhost:9200/_bulk [status:200 request:1.210s]\n",
      "05/03/2020 13:43:29 - INFO - elasticsearch -   POST http://localhost:9200/_bulk [status:200 request:1.212s]\n",
      "05/03/2020 13:43:31 - INFO - elasticsearch -   POST http://localhost:9200/_bulk [status:200 request:1.373s]\n",
      "05/03/2020 13:43:32 - INFO - elasticsearch -   POST http://localhost:9200/_bulk [status:200 request:1.276s]\n",
      "05/03/2020 13:43:36 - INFO - elasticsearch -   POST http://localhost:9200/_bulk [status:200 request:3.602s]\n",
      "05/03/2020 13:43:37 - INFO - elasticsearch -   POST http://localhost:9200/_bulk [status:200 request:1.193s]\n",
      "05/03/2020 13:43:39 - INFO - elasticsearch -   POST http://localhost:9200/_bulk [status:200 request:1.321s]\n",
      "05/03/2020 13:43:40 - INFO - elasticsearch -   POST http://localhost:9200/_bulk [status:200 request:1.210s]\n",
      "05/03/2020 13:43:42 - INFO - elasticsearch -   POST http://localhost:9200/_bulk [status:200 request:1.351s]\n",
      "05/03/2020 13:43:43 - INFO - elasticsearch -   POST http://localhost:9200/_bulk [status:200 request:1.117s]\n",
      "05/03/2020 13:43:45 - INFO - elasticsearch -   POST http://localhost:9200/_bulk [status:200 request:1.378s]\n",
      "05/03/2020 13:43:46 - INFO - elasticsearch -   POST http://localhost:9200/_bulk [status:200 request:1.257s]\n"
     ]
    },
    {
     "name": "stderr",
     "output_type": "stream",
     "text": [
      "05/03/2020 13:43:47 - INFO - elasticsearch -   POST http://localhost:9200/_bulk [status:200 request:1.130s]\n",
      "05/03/2020 13:43:49 - INFO - elasticsearch -   POST http://localhost:9200/_bulk [status:200 request:1.270s]\n",
      "05/03/2020 13:43:53 - INFO - elasticsearch -   POST http://localhost:9200/_bulk [status:200 request:3.506s]\n",
      "05/03/2020 13:43:54 - INFO - elasticsearch -   POST http://localhost:9200/_bulk [status:200 request:1.343s]\n",
      "05/03/2020 13:43:56 - INFO - elasticsearch -   POST http://localhost:9200/_bulk [status:200 request:1.361s]\n",
      "05/03/2020 13:43:58 - INFO - elasticsearch -   POST http://localhost:9200/_bulk [status:200 request:1.500s]\n",
      "05/03/2020 13:43:59 - INFO - elasticsearch -   POST http://localhost:9200/_bulk [status:200 request:1.632s]\n",
      "05/03/2020 13:44:01 - INFO - elasticsearch -   POST http://localhost:9200/_bulk [status:200 request:1.169s]\n",
      "05/03/2020 13:44:03 - INFO - elasticsearch -   POST http://localhost:9200/_bulk [status:200 request:1.928s]\n",
      "05/03/2020 13:44:04 - INFO - elasticsearch -   POST http://localhost:9200/_bulk [status:200 request:1.247s]\n",
      "05/03/2020 13:44:06 - INFO - elasticsearch -   POST http://localhost:9200/_bulk [status:200 request:1.702s]\n",
      "05/03/2020 13:44:08 - INFO - elasticsearch -   POST http://localhost:9200/_bulk [status:200 request:1.178s]\n",
      "05/03/2020 13:44:09 - INFO - elasticsearch -   POST http://localhost:9200/_bulk [status:200 request:1.229s]\n",
      "05/03/2020 13:44:11 - INFO - elasticsearch -   POST http://localhost:9200/_bulk [status:200 request:1.428s]\n",
      "05/03/2020 13:44:12 - INFO - elasticsearch -   POST http://localhost:9200/_bulk [status:200 request:1.566s]\n",
      "05/03/2020 13:44:14 - INFO - elasticsearch -   POST http://localhost:9200/_bulk [status:200 request:1.320s]\n",
      "05/03/2020 13:44:15 - INFO - elasticsearch -   POST http://localhost:9200/_bulk [status:200 request:1.212s]\n",
      "05/03/2020 13:44:15 - INFO - haystack.indexing.io -   Wrote 45941 docs to DB\n"
     ]
    }
   ],
   "source": [
    "doc_dir = '/home/krishna/projects/haystack/docs/'\n",
    "\n",
    "# Now, let's write the docs to our DB.\n",
    "# You can optionally supply a cleaning function that is applied to each doc (e.g. to remove footers)\n",
    "# It must take a str as input, and return a str.\n",
    "write_documents_to_db(document_store=document_store, document_dir=doc_dir, \\\n",
    "                      only_empty_db=True, split_paragraphs=True)"
   ]
  },
  {
   "cell_type": "code",
   "execution_count": 13,
   "metadata": {},
   "outputs": [],
   "source": [
    "## Using BM25\n",
    "from haystack.retriever.elasticsearch import ElasticsearchRetriever\n",
    "retriever = ElasticsearchRetriever(document_store=document_store)\n",
    "\n",
    "# An in-memory TfidfRetriever based on Pandas dataframes\n",
    "\n",
    "#from haystack.retriever.tfidf import TfidfRetriever\n",
    "#retriever = TfidfRetriever(document_store=document_store)"
   ]
  },
  {
   "cell_type": "code",
   "execution_count": 15,
   "metadata": {},
   "outputs": [
    {
     "name": "stderr",
     "output_type": "stream",
     "text": [
      "05/03/2020 13:55:11 - INFO - farm.utils -   device: cpu n_gpu: 0, distributed training: False, automatic mixed precision training: None\n",
      "05/03/2020 13:55:11 - INFO - farm.infer -   Could not find `deepset/roberta-base-squad2-covid` locally. Try to download from model hub ...\n",
      "05/03/2020 13:55:13 - INFO - filelock -   Lock 139855951456968 acquired on /home/krishna/.cache/torch/transformers/e12f81947e282c6fdc112c7f9347bcee4f98be395ed8b146654a1d3cebf1f23d.603b63150a0781ebce790d8ce087ebe411f005f5e48a250a40f65caef860cdf5.lock\n"
     ]
    },
    {
     "data": {
      "application/vnd.jupyter.widget-view+json": {
       "model_id": "349a2750096f4fcfa98e2958d45c9b23",
       "version_major": 2,
       "version_minor": 0
      },
      "text/plain": [
       "HBox(children=(FloatProgress(value=0.0, description='Downloading', max=498637768.0, style=ProgressStyle(descri…"
      ]
     },
     "metadata": {},
     "output_type": "display_data"
    },
    {
     "name": "stderr",
     "output_type": "stream",
     "text": [
      "05/03/2020 14:07:33 - INFO - filelock -   Lock 139855951456968 released on /home/krishna/.cache/torch/transformers/e12f81947e282c6fdc112c7f9347bcee4f98be395ed8b146654a1d3cebf1f23d.603b63150a0781ebce790d8ce087ebe411f005f5e48a250a40f65caef860cdf5.lock\n"
     ]
    },
    {
     "name": "stdout",
     "output_type": "stream",
     "text": [
      "\n"
     ]
    },
    {
     "name": "stderr",
     "output_type": "stream",
     "text": [
      "05/03/2020 14:07:36 - WARNING - farm.modeling.language_model -   Could not automatically detect from language model name what language it is. \n",
      "\t We guess it's an *ENGLISH* model ... \n",
      "\t If not: Init the language model by supplying the 'language' param.\n",
      "05/03/2020 14:07:42 - WARNING - farm.modeling.prediction_head -   Some unused parameters are passed to the QuestionAnsweringHead. Might not be a problem. Params: {\"loss_ignore_index\": -1}\n",
      "05/03/2020 14:07:48 - INFO - farm.utils -   device: cpu n_gpu: 0, distributed training: False, automatic mixed precision training: None\n"
     ]
    }
   ],
   "source": [
    "### Reader\n",
    "\n",
    "#reader = FARMReader(model_name_or_path=\"deepset/roberta-base-squad2\", use_gpu=False)\n",
    "reader = FARMReader(model_name_or_path='deepset/roberta-base-squad2-covid', use_gpu=False)\n",
    "#reader = TransformersReader(model=\"deepset/roberta-base-squad2\",tokenizer=\"deepset/roberta-base-squad2-covid\", use_gpu=-1)"
   ]
  },
  {
   "cell_type": "code",
   "execution_count": 16,
   "metadata": {},
   "outputs": [],
   "source": [
    "finder = Finder(reader, retriever)"
   ]
  },
  {
   "cell_type": "code",
   "execution_count": 17,
   "metadata": {},
   "outputs": [
    {
     "name": "stderr",
     "output_type": "stream",
     "text": [
      "05/03/2020 15:01:57 - INFO - elasticsearch -   POST http://localhost:9200/document/_search [status:200 request:0.110s]\n",
      "05/03/2020 15:01:57 - INFO - haystack.retriever.elasticsearch -   Got 5 candidates from retriever\n",
      "05/03/2020 15:01:57 - INFO - haystack.finder -   Reader is looking for detailed answer in 108615 chars ...\n"
     ]
    }
   ],
   "source": [
    "# You can configure how many candidates the reader and retriever shall return\n",
    "# The higher top_k_retriever, the better (but also the slower) your answers.\n",
    "prediction = finder.get_answers(question=\"what is Covid-19?\", top_k_retriever=5, top_k_reader=5)"
   ]
  },
  {
   "cell_type": "code",
   "execution_count": 18,
   "metadata": {},
   "outputs": [
    {
     "name": "stdout",
     "output_type": "stream",
     "text": [
      "{   'answers': [   {   'answer': 'a contagious respiratory illness',\n",
      "                       'context': 'Coronavirus (others include SARS, H5N1, '\n",
      "                                  'H1N1 and MERS), is a contagious respiratory '\n",
      "                                  'illness transmitted through the eyes, nose, '\n",
      "                                  'and mouth, via droplet',\n",
      "                       'document_id': 'ZWKZ2XEBjtCb_1IEJ6my',\n",
      "                       'meta': {   'name': '38b7a91d22d77b76c5d268c3943efbf3c4cc3cac.txt'},\n",
      "                       'offset_end': 92,\n",
      "                       'offset_end_in_doc': 4366,\n",
      "                       'offset_start': 59,\n",
      "                       'offset_start_in_doc': 4333,\n",
      "                       'probability': 0.8821277386576323,\n",
      "                       'score': 16.101882934570312},\n",
      "                   {   'answer': 'a lower airway disease',\n",
      "                       'context': ' I pay more attention to when I screen a '\n",
      "                                  'patient?\\n'\n",
      "                                  '• COVID-19 is a lower airway disease. Most '\n",
      "                                  'common symptoms (viral-related) include '\n",
      "                                  'fever, coughing (',\n",
      "                       'document_id': '2GKZ2XEBjtCb_1IER7EN',\n",
      "                       'meta': {   'name': '0775644af19e13cb5a4214be4db3f8ad75acd2d4.txt'},\n",
      "                       'offset_end': 86,\n",
      "                       'offset_end_in_doc': 1043,\n",
      "                       'offset_start': 64,\n",
      "                       'offset_start_in_doc': 1021,\n",
      "                       'probability': 0.8728641978494518,\n",
      "                       'score': 15.412193298339844},\n",
      "                   {   'answer': 'Novel Coronavirus',\n",
      "                       'context': ' Knowledge and Perceptions in Nigeria A '\n",
      "                                  'Preliminary Assessment of Novel Coronavirus '\n",
      "                                  '(COVID-19) Knowledge and Perceptions in '\n",
      "                                  'Nigeria A Preliminary Asse',\n",
      "                       'document_id': 'ZWKZ2XEBjtCb_1IEJ6my',\n",
      "                       'meta': {   'name': '38b7a91d22d77b76c5d268c3943efbf3c4cc3cac.txt'},\n",
      "                       'offset_end': 84,\n",
      "                       'offset_end_in_doc': 92,\n",
      "                       'offset_start': 66,\n",
      "                       'offset_start_in_doc': 74,\n",
      "                       'probability': 0.8708672232892447,\n",
      "                       'score': 15.269186973571777},\n",
      "                   {   'answer': 'a population that is older (median age is '\n",
      "                                 'approximately 50 years) and has underlying '\n",
      "                                 'conditions',\n",
      "                       'context': ' all persons with COVID-19, a population '\n",
      "                                  'that is older (median age is approximately '\n",
      "                                  '50 years) and has underlying conditions. A '\n",
      "                                  'small study that compar',\n",
      "                       'document_id': '6GKY2XEBjtCb_1IEP2QX',\n",
      "                       'meta': {   'name': '48e64d179fc00d5667b7e9e68f034eca2fbd7943.txt'},\n",
      "                       'offset_end': 123,\n",
      "                       'offset_end_in_doc': 8091,\n",
      "                       'offset_start': 28,\n",
      "                       'offset_start_in_doc': 7996,\n",
      "                       'probability': 0.8357776895739458,\n",
      "                       'score': 13.017132759094238},\n",
      "                   {   'answer': 'Public Health Emergency of International '\n",
      "                                 'Concern',\n",
      "                       'context': 'e exemplified, D L Heymann, Lancet, 2020; '\n",
      "                                  'COVID 19 Public Health Emergency of '\n",
      "                                  'International Concern (PHEIC) Global '\n",
      "                                  'research and innovation forum: towa',\n",
      "                       'document_id': 'WmKZ2XEBjtCb_1IEYbli',\n",
      "                       'meta': {   'name': '92ab5b61b296652be2d16d5b29918ead488e5915.txt'},\n",
      "                       'offset_end': 100,\n",
      "                       'offset_end_in_doc': 32431,\n",
      "                       'offset_start': 51,\n",
      "                       'offset_start_in_doc': 32382,\n",
      "                       'probability': 0.8160098068192622,\n",
      "                       'score': 11.916351318359375}],\n",
      "    'no_ans_gap': 17.672741174697876,\n",
      "    'question': 'what is Covid-19?'}\n"
     ]
    }
   ],
   "source": [
    "results = print_answers(prediction, details=\"all\")"
   ]
  },
  {
   "cell_type": "code",
   "execution_count": null,
   "metadata": {},
   "outputs": [],
   "source": []
  }
 ],
 "metadata": {
  "kernelspec": {
   "display_name": "ktrain",
   "language": "python",
   "name": "ktrain"
  },
  "language_info": {
   "codemirror_mode": {
    "name": "ipython",
    "version": 3
   },
   "file_extension": ".py",
   "mimetype": "text/x-python",
   "name": "python",
   "nbconvert_exporter": "python",
   "pygments_lexer": "ipython3",
   "version": "3.6.10"
  }
 },
 "nbformat": 4,
 "nbformat_minor": 4
}
